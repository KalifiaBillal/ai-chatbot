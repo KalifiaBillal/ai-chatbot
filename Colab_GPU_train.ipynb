{
  "nbformat": 4,
  "nbformat_minor": 0,
  "metadata": {
    "colab": {
      "name": "Colab-GPU_train.ipynb",
      "provenance": [],
      "collapsed_sections": []
    },
    "kernelspec": {
      "name": "python3",
      "display_name": "Python 3"
    }
  },
  "cells": [
    {
      "cell_type": "markdown",
      "metadata": {
        "id": "LqTGhZCUY1lX",
        "colab_type": "text"
      },
      "source": [
        "# **Training your Machine Learining or AI model using Colab's GPU**\n",
        "Colab uses a powerful Nvidia Tesla K80 when you choose GPU for it's runtime environment. \n",
        "\n",
        "***Note:*** *Check 'Points to know' at bottom before using this method*"
      ]
    },
    {
      "cell_type": "markdown",
      "metadata": {
        "id": "gtHQGcsXZWox",
        "colab_type": "text"
      },
      "source": [
        "## How to Select GPU for your Colab Runtime?\n",
        "\n",
        "\n",
        "\n",
        "1.   Click on 'Runtime' on the top nav bar\n",
        "2.   Click on 'Change runtime type'\n",
        "3.   In hardware accelerator, choose 'Gpu' and click on save\n",
        "4.   Then, below the nav bar, where you have '+Code' & '+Text', check the connection whether you are connected to hosted runtime or not, if not, then just click on it and it will automatically connect and the from the point at which you connect, you will be alloted 12 hours max on the GPU for one session\n",
        "\n",
        "\n"
      ]
    },
    {
      "cell_type": "markdown",
      "metadata": {
        "id": "d4qeEac-bs2l",
        "colab_type": "text"
      },
      "source": [
        "## Setting up Colab's GPU Training"
      ]
    },
    {
      "cell_type": "markdown",
      "metadata": {
        "id": "ua7qZw8-awp-",
        "colab_type": "text"
      },
      "source": [
        "### Setting up TensorFlow\n",
        "\n",
        "Check the tensorflow version, Colab uses latest Tensorflow, so install tensorflow version as per your requirement"
      ]
    },
    {
      "cell_type": "code",
      "metadata": {
        "id": "RWkgucTtavoS",
        "colab_type": "code",
        "colab": {}
      },
      "source": [
        "!pip3 install tensorflow==1.0.0"
      ],
      "execution_count": 0,
      "outputs": []
    },
    {
      "cell_type": "markdown",
      "metadata": {
        "id": "rQh6TerycV2m",
        "colab_type": "text"
      },
      "source": [
        "Install TensorFlow GPU"
      ]
    },
    {
      "cell_type": "code",
      "metadata": {
        "id": "myk_ojvecZKp",
        "colab_type": "code",
        "colab": {}
      },
      "source": [
        "!pip install tensorflow-gpu==1.0"
      ],
      "execution_count": 0,
      "outputs": []
    },
    {
      "cell_type": "markdown",
      "metadata": {
        "id": "EHbGwiEJbG_V",
        "colab_type": "text"
      },
      "source": [
        "### Setting up CUDA\n",
        "Remove the default CUDA version and install CUDA 8.0 as in our example, we are using TensorFlow 1.0.0 which is compatible with CUDA 8.0"
      ]
    },
    {
      "cell_type": "code",
      "metadata": {
        "id": "zTO_iIhVbn9I",
        "colab_type": "code",
        "colab": {}
      },
      "source": [
        "!apt-get remove cuda\n",
        "!apt-get autoremove cuda\n",
        "!apt-get purge cuda\n",
        "!apt-key del /var/cuda-repo-9-2-local/*.pub\n",
        "!rm -rf /var/cuda-repo-8-0-local-ga2/"
      ],
      "execution_count": 0,
      "outputs": []
    },
    {
      "cell_type": "markdown",
      "metadata": {
        "id": "wWYE-zyib8FP",
        "colab_type": "text"
      },
      "source": [
        "Installing CUDA 8.0 for our TensorFlow 1.0.0 version"
      ]
    },
    {
      "cell_type": "code",
      "metadata": {
        "id": "7i5TqWPEb_t-",
        "colab_type": "code",
        "colab": {}
      },
      "source": [
        "!apt-get remove cuda\n",
        "!apt-get autoremove cuda\n",
        "!apt-get purge cuda\n",
        "!apt-key del /var/cuda-repo-9-2-local/*.pub\n",
        "!rm -rf /var/cuda-repo-8-0-local-ga2/"
      ],
      "execution_count": 0,
      "outputs": []
    },
    {
      "cell_type": "markdown",
      "metadata": {
        "id": "-R0TEmuzcFDO",
        "colab_type": "text"
      },
      "source": [
        "Verify CUDA Installation"
      ]
    },
    {
      "cell_type": "code",
      "metadata": {
        "id": "vCL6TOX-cG_G",
        "colab_type": "code",
        "colab": {}
      },
      "source": [
        "!apt --fix-broken install\n",
        "!apt-get install cuda-8-0"
      ],
      "execution_count": 0,
      "outputs": []
    },
    {
      "cell_type": "markdown",
      "metadata": {
        "id": "8nZwd44lcn82",
        "colab_type": "text"
      },
      "source": [
        "### Upload Files"
      ]
    },
    {
      "cell_type": "code",
      "metadata": {
        "id": "MFteqXNQcrP2",
        "colab_type": "code",
        "colab": {}
      },
      "source": [
        "from google.colab import files\n",
        "uploaded = files.upload()"
      ],
      "execution_count": 0,
      "outputs": []
    },
    {
      "cell_type": "markdown",
      "metadata": {
        "id": "GA_UXbKrcvoW",
        "colab_type": "text"
      },
      "source": [
        "### Run .py File"
      ]
    },
    {
      "cell_type": "code",
      "metadata": {
        "id": "r0m5BN67czk-",
        "colab_type": "code",
        "colab": {}
      },
      "source": [
        "!python filename.py"
      ],
      "execution_count": 0,
      "outputs": []
    },
    {
      "cell_type": "markdown",
      "metadata": {
        "id": "S-2AtgK3dRYQ",
        "colab_type": "text"
      },
      "source": [
        "## Points to know\n",
        "\n",
        "\n",
        "*   You are alloted only 12 hours of time per runtime(session)\n",
        "\n",
        "*   If you choose to upload files using above cell, then it will store the files in the runtime. When the runtime terminates, your files will also be deleted. So, make sure to download the files or checkpoints before the runtime terminates.\n",
        "\n",
        "*   If no cell is executing, then the tab in which your Colab is opened is considered idle and hence it gets terminated after 1.5 hours due to inactivity.\n",
        "\n",
        "\n",
        "*   You can run a maximum of 2 runtimes only.\n",
        "\n",
        "\n",
        "\n"
      ]
    }
  ]
}